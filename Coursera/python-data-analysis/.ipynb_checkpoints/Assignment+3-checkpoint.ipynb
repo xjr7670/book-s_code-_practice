{
 "cells": [
  {
   "cell_type": "markdown",
   "metadata": {},
   "source": [
    "---\n",
    "\n",
    "_You are currently looking at **version 1.5** of this notebook. To download notebooks and datafiles, as well as get help on Jupyter notebooks in the Coursera platform, visit the [Jupyter Notebook FAQ](https://www.coursera.org/learn/python-data-analysis/resources/0dhYG) course resource._\n",
    "\n",
    "---"
   ]
  },
  {
   "cell_type": "markdown",
   "metadata": {},
   "source": [
    "# Assignment 3 - More Pandas\n",
    "This assignment requires more individual learning then the last one did - you are encouraged to check out the [pandas documentation](http://pandas.pydata.org/pandas-docs/stable/) to find functions or methods you might not have used yet, or ask questions on [Stack Overflow](http://stackoverflow.com/) and tag them as pandas and python related. And of course, the discussion forums are open for interaction with your peers and the course staff."
   ]
  },
  {
   "cell_type": "markdown",
   "metadata": {},
   "source": [
    "### Question 1 (20%)\n",
    "Load the energy data from the file `Energy Indicators.xls`, which is a list of indicators of [energy supply and renewable electricity production](Energy%20Indicators.xls) from the [United Nations](http://unstats.un.org/unsd/environment/excel_file_tables/2013/Energy%20Indicators.xls) for the year 2013, and should be put into a DataFrame with the variable name of **energy**.\n",
    "\n",
    "Keep in mind that this is an Excel file, and not a comma separated values file. Also, make sure to exclude the footer and header information from the datafile. The first two columns are unneccessary, so you should get rid of them, and you should change the column labels so that the columns are:\n",
    "\n",
    "`['Country', 'Energy Supply', 'Energy Supply per Capita', '% Renewable']`\n",
    "\n",
    "Convert `Energy Supply` to gigajoules (there are 1,000,000 gigajoules in a petajoule). For all countries which have missing data (e.g. data with \"...\") make sure this is reflected as `np.NaN` values.\n",
    "\n",
    "Rename the following list of countries (for use in later questions):\n",
    "\n",
    "```\"Republic of Korea\": \"South Korea\",\n",
    "\"United States of America\": \"United States\",\n",
    "\"United Kingdom of Great Britain and Northern Ireland\": \"United Kingdom\",\n",
    "\"China, Hong Kong Special Administrative Region\": \"Hong Kong\"```\n",
    "\n",
    "There are also several countries with numbers and/or parenthesis in their name. Be sure to remove these, \n",
    "\n",
    "e.g. \n",
    "\n",
    "`'Bolivia (Plurinational State of)'` should be `'Bolivia'`, \n",
    "\n",
    "`'Switzerland17'` should be `'Switzerland'`.\n",
    "\n",
    "<br>\n",
    "\n",
    "Next, load the GDP data from the file `world_bank.csv`, which is a csv containing countries' GDP from 1960 to 2015 from [World Bank](http://data.worldbank.org/indicator/NY.GDP.MKTP.CD). Call this DataFrame **GDP**. \n",
    "\n",
    "Make sure to skip the header, and rename the following list of countries:\n",
    "\n",
    "```\"Korea, Rep.\": \"South Korea\", \n",
    "\"Iran, Islamic Rep.\": \"Iran\",\n",
    "\"Hong Kong SAR, China\": \"Hong Kong\"```\n",
    "\n",
    "<br>\n",
    "\n",
    "Finally, load the [Sciamgo Journal and Country Rank data for Energy Engineering and Power Technology](http://www.scimagojr.com/countryrank.php?category=2102) from the file `scimagojr-3.xlsx`, which ranks countries based on their journal contributions in the aforementioned area. Call this DataFrame **ScimEn**.\n",
    "\n",
    "Join the three datasets: GDP, Energy, and ScimEn into a new dataset (using the intersection of country names). Use only the last 10 years (2006-2015) of GDP data and only the top 15 countries by Scimagojr 'Rank' (Rank 1 through 15). \n",
    "\n",
    "The index of this DataFrame should be the name of the country, and the columns should be ['Rank', 'Documents', 'Citable documents', 'Citations', 'Self-citations',\n",
    "       'Citations per document', 'H index', 'Energy Supply',\n",
    "       'Energy Supply per Capita', '% Renewable', '2006', '2007', '2008',\n",
    "       '2009', '2010', '2011', '2012', '2013', '2014', '2015'].\n",
    "\n",
    "*This function should return a DataFrame with 20 columns and 15 entries.*"
   ]
  },
  {
   "cell_type": "code",
   "execution_count": 2,
   "metadata": {
    "collapsed": true
   },
   "outputs": [],
   "source": [
    "import pandas as pd\n",
    "import numpy as np\n",
    "import re\n",
    "\n",
    "def answer_one():\n",
    "    energy = pd.read_excel(\"Energy Indicators.xls\", skiprows=17, skip_footer=38, parse_cols=[1, 3, 4, 5], na_values={'Unnamed: 0': np.nan})\n",
    "    # 设置新的列头\n",
    "    energy.columns = ['Country', 'Energy Supply', 'Energy Supply per Capita', '% Renewable']\n",
    "\n",
    "    # 把...换成np.nan\n",
    "    # 并把中间两列数据转成float64类型\n",
    "    energy.replace('...', np.nan, inplace=True)\n",
    "    energy.astype({'Energy Supply': 'float64', 'Energy Supply per Capita': 'float64'})\n",
    "\n",
    "    # 把Energy Supply转成和Energy Supply per Capita同样的单位gigajoules\n",
    "    energy['Energy Supply'] = energy['Energy Supply'] * 1000000\n",
    "\n",
    "    # 把国家名替换成标准格式\n",
    "    new_country = {\n",
    "        \"Republic of Korea\": \"South Korea\",\n",
    "        \"United States of America\": \"United States\",\n",
    "        \"United Kingdom of Great Britain and Northern Ireland\": \"United Kingdom\",\n",
    "        \"China, Hong Kong Special Administrative Region\": \"Hong Kong\",\n",
    "        \"Bolivia (Plurinational State of)\": \"Bolivia\",\n",
    "        \"Iran (Islamic Republic of)\": \"Iran\"\n",
    "    }\n",
    "    energy.replace({'Country': new_country}, inplace=True)\n",
    "\n",
    "    # 把国家名中含数字的去掉数字\n",
    "    energy.replace({'Country': {re.compile(r'\\d+'): ''}}, inplace=True)\n",
    "    energy.head()\n",
    "\n",
    "    GDP = pd.read_csv(\"world_bank.csv\", skiprows=4)\n",
    "\n",
    "    # 把国家名字替换成标准格式\n",
    "    new_country1 = {\n",
    "        \"Korea, Rep.\": \"South Korea\", \n",
    "        \"Iran, Islamic Rep.\": \"Iran\",\n",
    "        \"Hong Kong SAR, China\": \"Hong Kong\"\n",
    "    }\n",
    "    GDP.replace({'Country Name': new_country1}, inplace=True)\n",
    "    GDP.head()\n",
    "\n",
    "    # 获取ScimEn数据框\n",
    "    ScimEn = pd.read_excel('scimagojr-3.xlsx')\n",
    "    ScimEn.head()\n",
    "\n",
    "    # 获取需要用到的GDP中的列\n",
    "    gdp_columns = list(GDP.columns[0:4]) + list(GDP.columns[-10:])\n",
    "\n",
    "    # 合并GDP和energy，得到result_df0\n",
    "    result_df0 = pd.merge(left=GDP[gdp_columns], right=energy, left_on='Country Name', right_on='Country', how='inner')\n",
    "\n",
    "    # 合并result_df0和ScimEn，得到result_df\n",
    "    result_df = pd.merge(left=result_df0, right=ScimEn.loc[0:14], left_on='Country Name', right_on='Country', how='inner')\n",
    "\n",
    "    # 把国家名列设置索引\n",
    "    result_df = result_df.set_index('Country Name')\n",
    "    # 获取结果需要用到的列\n",
    "    result_columns = ['Rank', 'Documents', 'Citable documents', 'Citations', 'Self-citations', 'Citations per document', 'H index', 'Energy Supply', 'Energy Supply per Capita', '% Renewable', '2006', '2007', '2008', '2009', '2010', '2011', '2012', '2013', '2014', '2015']\n",
    "    result_df = result_df[result_columns].sort_values(by='Rank')\n",
    "    \n",
    "    return result_df\n"
   ]
  },
  {
   "cell_type": "markdown",
   "metadata": {},
   "source": [
    "### Question 2 (6.6%)\n",
    "The previous question joined three datasets then reduced this to just the top 15 entries. When you joined the datasets, but before you reduced this to the top 15 items, how many entries did you lose?\n",
    "\n",
    "*This function should return a single number.*"
   ]
  },
  {
   "cell_type": "code",
   "execution_count": 3,
   "metadata": {},
   "outputs": [
    {
     "data": {
      "text/html": [
       "<svg width=\"800\" height=\"300\">\n",
       "  <circle cx=\"150\" cy=\"180\" r=\"80\" fill-opacity=\"0.2\" stroke=\"black\" stroke-width=\"2\" fill=\"blue\" />\n",
       "  <circle cx=\"200\" cy=\"100\" r=\"80\" fill-opacity=\"0.2\" stroke=\"black\" stroke-width=\"2\" fill=\"red\" />\n",
       "  <circle cx=\"100\" cy=\"100\" r=\"80\" fill-opacity=\"0.2\" stroke=\"black\" stroke-width=\"2\" fill=\"green\" />\n",
       "  <line x1=\"150\" y1=\"125\" x2=\"300\" y2=\"150\" stroke=\"black\" stroke-width=\"2\" fill=\"black\" stroke-dasharray=\"5,3\"/>\n",
       "  <text  x=\"300\" y=\"165\" font-family=\"Verdana\" font-size=\"35\">Everything but this!</text>\n",
       "</svg>"
      ],
      "text/plain": [
       "<IPython.core.display.HTML object>"
      ]
     },
     "metadata": {},
     "output_type": "display_data"
    }
   ],
   "source": [
    "%%HTML\n",
    "<svg width=\"800\" height=\"300\">\n",
    "  <circle cx=\"150\" cy=\"180\" r=\"80\" fill-opacity=\"0.2\" stroke=\"black\" stroke-width=\"2\" fill=\"blue\" />\n",
    "  <circle cx=\"200\" cy=\"100\" r=\"80\" fill-opacity=\"0.2\" stroke=\"black\" stroke-width=\"2\" fill=\"red\" />\n",
    "  <circle cx=\"100\" cy=\"100\" r=\"80\" fill-opacity=\"0.2\" stroke=\"black\" stroke-width=\"2\" fill=\"green\" />\n",
    "  <line x1=\"150\" y1=\"125\" x2=\"300\" y2=\"150\" stroke=\"black\" stroke-width=\"2\" fill=\"black\" stroke-dasharray=\"5,3\"/>\n",
    "  <text  x=\"300\" y=\"165\" font-family=\"Verdana\" font-size=\"35\">Everything but this!</text>\n",
    "</svg>"
   ]
  },
  {
   "cell_type": "code",
   "execution_count": 4,
   "metadata": {
    "collapsed": true
   },
   "outputs": [],
   "source": [
    "def answer_two():\n",
    "    return len(energy) + len(GDP) + len(ScimEn) - len(result_df)"
   ]
  },
  {
   "cell_type": "markdown",
   "metadata": {},
   "source": [
    "<br>\n",
    "\n",
    "## Answer the following questions in the context of only the top 15 countries by Scimagojr Rank (aka the DataFrame returned by `answer_one()`)"
   ]
  },
  {
   "cell_type": "markdown",
   "metadata": {},
   "source": [
    "### Question 3 (6.6%)\n",
    "What is the average GDP over the last 10 years for each country? (exclude missing values from this calculation.)\n",
    "\n",
    "*This function should return a Series named `avgGDP` with 15 countries and their average GDP sorted in descending order.*"
   ]
  },
  {
   "cell_type": "code",
   "execution_count": 5,
   "metadata": {
    "collapsed": true,
    "scrolled": true
   },
   "outputs": [],
   "source": [
    "def answer_three():\n",
    "    Top15 = answer_one()\n",
    "    avgGDP = Top15.iloc[0:14, 10:20].replace(np.nan, 0).apply(np.average, axis=1)\n",
    "    return avgGDP"
   ]
  },
  {
   "cell_type": "markdown",
   "metadata": {},
   "source": [
    "### Question 4 (6.6%)\n",
    "By how much had the GDP changed over the 10 year span for the country with the 6th largest average GDP?\n",
    "\n",
    "*This function should return a single number.*"
   ]
  },
  {
   "cell_type": "code",
   "execution_count": 6,
   "metadata": {
    "collapsed": true,
    "scrolled": true
   },
   "outputs": [],
   "source": [
    "def answer_four():\n",
    "    Top15 = answer_one()\n",
    "    return np.ptp(Top15[Top15.index.isin(avgTop6)].iloc[:, 10:20].apply(np.sum))"
   ]
  },
  {
   "cell_type": "markdown",
   "metadata": {},
   "source": [
    "### Question 5 (6.6%)\n",
    "What is the mean `Energy Supply per Capita`?\n",
    "\n",
    "*This function should return a single number.*"
   ]
  },
  {
   "cell_type": "code",
   "execution_count": 7,
   "metadata": {
    "collapsed": true
   },
   "outputs": [],
   "source": [
    "def answer_five():\n",
    "    Top15 = answer_one()\n",
    "    return np.mean(Top15['Energy Supply per Capita'])"
   ]
  },
  {
   "cell_type": "markdown",
   "metadata": {},
   "source": [
    "### Question 6 (6.6%)\n",
    "What country has the maximum % Renewable and what is the percentage?\n",
    "\n",
    "*This function should return a tuple with the name of the country and the percentage.*"
   ]
  },
  {
   "cell_type": "code",
   "execution_count": 8,
   "metadata": {
    "collapsed": true
   },
   "outputs": [],
   "source": [
    "def answer_six():\n",
    "    Top15 = answer_one()\n",
    "    country = Top15.sort_values(by='% Renewable', ascending=False).index[0]\n",
    "    percentage = Top15.loc[country, '% Renewable']\n",
    "    return (country, percentage)"
   ]
  },
  {
   "cell_type": "markdown",
   "metadata": {},
   "source": [
    "### Question 7 (6.6%)\n",
    "Create a new column that is the ratio of Self-Citations to Total Citations. \n",
    "What is the maximum value for this new column, and what country has the highest ratio?\n",
    "\n",
    "*This function should return a tuple with the name of the country and the ratio.*"
   ]
  },
  {
   "cell_type": "code",
   "execution_count": 9,
   "metadata": {
    "collapsed": true
   },
   "outputs": [],
   "source": [
    "def answer_seven():\n",
    "    Top15 = answer_one()\n",
    "    result_df['ratio'] = result_df['Self-citations'] / result_df['Citations']\n",
    "    country = result_df.sort_values(by='ratio', ascending=False).index[0]\n",
    "    ratio = result_df.loc[country, 'ratio']\n",
    "\n",
    "    return (country, ratio)"
   ]
  },
  {
   "cell_type": "markdown",
   "metadata": {},
   "source": [
    "### Question 8 (6.6%)\n",
    "\n",
    "Create a column that estimates the population using Energy Supply and Energy Supply per capita. \n",
    "What is the third most populous country according to this estimate?\n",
    "\n",
    "*This function should return a single string value.*"
   ]
  },
  {
   "cell_type": "code",
   "execution_count": 10,
   "metadata": {
    "collapsed": true
   },
   "outputs": [],
   "source": [
    "def answer_eight():\n",
    "    Top15 = answer_one()\n",
    "    Top15['estimate_populous'] = Top15['Energy Supply'] / Top15['Energy Supply per Capita']\n",
    "    country = Top15.sort_values(by='estimate_populous', ascending=False).index[2]\n",
    "    return country"
   ]
  },
  {
   "cell_type": "markdown",
   "metadata": {},
   "source": [
    "### Question 9 (6.6%)\n",
    "Create a column that estimates the number of citable documents per person. \n",
    "What is the correlation between the number of citable documents per capita and the energy supply per capita? Use the `.corr()` method, (Pearson's correlation).\n",
    "\n",
    "*This function should return a single number.*\n",
    "\n",
    "*(Optional: Use the built-in function `plot9()` to visualize the relationship between Energy Supply per Capita vs. Citable docs per Capita)*"
   ]
  },
  {
   "cell_type": "code",
   "execution_count": 11,
   "metadata": {
    "collapsed": true
   },
   "outputs": [],
   "source": [
    "def answer_nine():\n",
    "    Top15 = answer_one()\n",
    "    result_df['Citable documents per person'] = result_df['Citable documents'] / result_df['estimate_populous']\n",
    "    return result_df.loc[:,['Citable documents per person', 'Energy Supply per Capita']].corr().iat[0, 1]"
   ]
  },
  {
   "cell_type": "code",
   "execution_count": 12,
   "metadata": {
    "collapsed": true
   },
   "outputs": [],
   "source": [
    "def plot9():\n",
    "    import matplotlib as plt\n",
    "    %matplotlib inline\n",
    "    \n",
    "    Top15 = answer_one()\n",
    "    Top15['PopEst'] = Top15['Energy Supply'] / Top15['Energy Supply per Capita']\n",
    "    Top15['Citable docs per Capita'] = Top15['Citable documents'] / Top15['PopEst']\n",
    "    #Top15.plot(x='Citable docs per Capita', y='Energy Supply per Capita', kind='scatter', xlim=[0, 0.0006])\n",
    "    print(Top15)"
   ]
  },
  {
   "cell_type": "code",
   "execution_count": 13,
   "metadata": {},
   "outputs": [
    {
     "name": "stdout",
     "output_type": "stream",
     "text": [
      "                    Rank  Documents  Citable documents  Citations  \\\n",
      "Country Name                                                        \n",
      "China                  1     127050             126767     597237   \n",
      "United States          2      96661              94747     792274   \n",
      "Japan                  3      30504              30287     223024   \n",
      "United Kingdom         4      20944              20357     206091   \n",
      "Russian Federation     5      18534              18301      34266   \n",
      "Canada                 6      17899              17620     215003   \n",
      "Germany                7      17027              16831     140566   \n",
      "India                  8      15005              14841     128763   \n",
      "France                 9      13153              12973     130632   \n",
      "South Korea           10      11983              11923     114675   \n",
      "Italy                 11      10964              10794     111850   \n",
      "Spain                 12       9428               9330     123336   \n",
      "Iran                  13       8896               8819      57470   \n",
      "Australia             14       8831               8725      90765   \n",
      "Brazil                15       8668               8596      60702   \n",
      "\n",
      "                    Self-citations  Citations per document  H index  \\\n",
      "Country Name                                                          \n",
      "China                       411683                    4.70      138   \n",
      "United States               265436                    8.20      230   \n",
      "Japan                        61554                    7.31      134   \n",
      "United Kingdom               37874                    9.84      139   \n",
      "Russian Federation           12422                    1.85       57   \n",
      "Canada                       40930                   12.01      149   \n",
      "Germany                      27426                    8.26      126   \n",
      "India                        37209                    8.58      115   \n",
      "France                       28601                    9.93      114   \n",
      "South Korea                  22595                    9.57      104   \n",
      "Italy                        26661                   10.20      106   \n",
      "Spain                        23964                   13.08      115   \n",
      "Iran                         19125                    6.46       72   \n",
      "Australia                    15606                   10.28      107   \n",
      "Brazil                       14396                    7.00       86   \n",
      "\n",
      "                    Energy Supply  Energy Supply per Capita  % Renewable  \\\n",
      "Country Name                                                               \n",
      "China                     127.191                     0.093    19.754910   \n",
      "United States              90.838                     0.286    11.570980   \n",
      "Japan                      18.984                     0.149    10.232820   \n",
      "United Kingdom              7.920                     0.124    10.600470   \n",
      "Russian Federation         30.709                     0.214    17.288680   \n",
      "Canada                     10.431                     0.296    61.945430   \n",
      "Germany                    13.261                     0.165    17.901530   \n",
      "India                      33.195                     0.026    14.969080   \n",
      "France                     10.597                     0.166    17.020280   \n",
      "South Korea                11.007                     0.221     2.279353   \n",
      "Italy                       6.530                     0.109    33.667230   \n",
      "Spain                       4.923                     0.106    37.968590   \n",
      "Iran                        9.172                     0.119     5.707721   \n",
      "Australia                   5.386                     0.231    11.810810   \n",
      "Brazil                     12.149                     0.059    69.648030   \n",
      "\n",
      "                             ...                     2008          2009  \\\n",
      "Country Name                 ...                                          \n",
      "China                        ...             4.997775e+12  5.459247e+12   \n",
      "United States                ...             1.501149e+13  1.459484e+13   \n",
      "Japan                        ...             5.558527e+12  5.251308e+12   \n",
      "United Kingdom               ...             2.470614e+12  2.367048e+12   \n",
      "Russian Federation           ...             1.583004e+12  1.459199e+12   \n",
      "Canada                       ...             1.612713e+12  1.565145e+12   \n",
      "Germany                      ...             3.478809e+12  3.283340e+12   \n",
      "India                        ...             1.428361e+12  1.549483e+12   \n",
      "France                       ...             2.674637e+12  2.595967e+12   \n",
      "South Korea                  ...             1.020510e+12  1.027730e+12   \n",
      "Italy                        ...             2.211154e+12  2.089938e+12   \n",
      "Spain                        ...             1.484530e+12  1.431475e+12   \n",
      "Iran                         ...             4.289909e+11  4.389208e+11   \n",
      "Australia                    ...             1.099644e+12  1.119654e+12   \n",
      "Brazil                       ...             2.056809e+12  2.054215e+12   \n",
      "\n",
      "                            2010          2011          2012          2013  \\\n",
      "Country Name                                                                 \n",
      "China               6.039659e+12  6.612490e+12  7.124978e+12  7.672448e+12   \n",
      "United States       1.496437e+13  1.520402e+13  1.554216e+13  1.577367e+13   \n",
      "Japan               5.498718e+12  5.473738e+12  5.569102e+12  5.644659e+12   \n",
      "United Kingdom      2.403504e+12  2.450911e+12  2.479809e+12  2.533370e+12   \n",
      "Russian Federation  1.524917e+12  1.589943e+12  1.645876e+12  1.666934e+12   \n",
      "Canada              1.613406e+12  1.664087e+12  1.693133e+12  1.730688e+12   \n",
      "Germany             3.417298e+12  3.542371e+12  3.556724e+12  3.567317e+12   \n",
      "India               1.708459e+12  1.821872e+12  1.924235e+12  2.051982e+12   \n",
      "France              2.646995e+12  2.702032e+12  2.706968e+12  2.722567e+12   \n",
      "South Korea         1.094499e+12  1.134796e+12  1.160809e+12  1.194429e+12   \n",
      "Italy               2.125185e+12  2.137439e+12  2.077184e+12  2.040871e+12   \n",
      "Spain               1.431673e+12  1.417355e+12  1.380216e+12  1.357139e+12   \n",
      "Iran                4.677902e+11  4.853309e+11  4.532569e+11  4.445926e+11   \n",
      "Australia           1.142251e+12  1.169431e+12  1.211913e+12  1.241484e+12   \n",
      "Brazil              2.208872e+12  2.295245e+12  2.339209e+12  2.409740e+12   \n",
      "\n",
      "                            2014          2015       PopEst  \\\n",
      "Country Name                                                  \n",
      "China               8.230121e+12  8.797999e+12  1367.645161   \n",
      "United States       1.615662e+13  1.654857e+13   317.615385   \n",
      "Japan               5.642884e+12  5.669563e+12   127.409396   \n",
      "United Kingdom      2.605643e+12  2.666333e+12    63.870968   \n",
      "Russian Federation  1.678709e+12  1.616149e+12   143.500000   \n",
      "Canada              1.773486e+12  1.792609e+12    35.239865   \n",
      "Germany             3.624386e+12  3.685556e+12    80.369697   \n",
      "India               2.200617e+12  2.367206e+12  1276.730769   \n",
      "France              2.729632e+12  2.761185e+12    63.837349   \n",
      "South Korea         1.234340e+12  1.266580e+12    49.805430   \n",
      "Italy               2.033868e+12  2.049316e+12    59.908257   \n",
      "Spain               1.375605e+12  1.419821e+12    46.443396   \n",
      "Iran                4.639027e+11           NaN    77.075630   \n",
      "Australia           1.272520e+12  1.301251e+12    23.316017   \n",
      "Brazil              2.412231e+12  2.319423e+12   205.915254   \n",
      "\n",
      "                    Citable docs per Capita  \n",
      "Country Name                                 \n",
      "China                             92.689978  \n",
      "United States                    298.307338  \n",
      "Japan                            237.714022  \n",
      "United Kingdom                   318.720707  \n",
      "Russian Federation               127.533101  \n",
      "Canada                           500.001917  \n",
      "Germany                          209.419727  \n",
      "India                             11.624221  \n",
      "France                           203.219590  \n",
      "South Korea                      239.391569  \n",
      "Italy                            180.175498  \n",
      "Spain                            200.889701  \n",
      "Iran                             114.420083  \n",
      "Australia                        374.206276  \n",
      "Brazil                            41.745329  \n",
      "\n",
      "[15 rows x 22 columns]\n"
     ]
    }
   ],
   "source": [
    "#plot9() # Be sure to comment out plot9() before submitting the assignment!\n",
    "# Top15 = answer_one()\n",
    "plot9()"
   ]
  },
  {
   "cell_type": "markdown",
   "metadata": {},
   "source": [
    "### Question 10 (6.6%)\n",
    "Create a new column with a 1 if the country's % Renewable value is at or above the median for all countries in the top 15, and a 0 if the country's % Renewable value is below the median.\n",
    "\n",
    "*This function should return a series named `HighRenew` whose index is the country name sorted in ascending order of rank.*"
   ]
  },
  {
   "cell_type": "code",
   "execution_count": 14,
   "metadata": {
    "collapsed": true
   },
   "outputs": [],
   "source": [
    "def answer_ten():\n",
    "    Top15 = answer_one()\n",
    "    Top15['HighRenew'] = Top15['% Renewable'].apply(lambda x: 1 if x > Top15['% Renewable'].mean() else 0)\n",
    "    return Top15.HighRenew"
   ]
  },
  {
   "cell_type": "markdown",
   "metadata": {},
   "source": [
    "### Question 11 (6.6%)\n",
    "Use the following dictionary to group the Countries by Continent, then create a dateframe that displays the sample size (the number of countries in each continent bin), and the sum, mean, and std deviation for the estimated population of each country.\n",
    "\n",
    "```python\n",
    "ContinentDict  = {'China':'Asia', \n",
    "                  'United States':'North America', \n",
    "                  'Japan':'Asia', \n",
    "                  'United Kingdom':'Europe', \n",
    "                  'Russian Federation':'Europe', \n",
    "                  'Canada':'North America', \n",
    "                  'Germany':'Europe', \n",
    "                  'India':'Asia',\n",
    "                  'France':'Europe', \n",
    "                  'South Korea':'Asia', \n",
    "                  'Italy':'Europe', \n",
    "                  'Spain':'Europe', \n",
    "                  'Iran':'Asia',\n",
    "                  'Australia':'Australia', \n",
    "                  'Brazil':'South America'}\n",
    "```\n",
    "\n",
    "*This function should return a DataFrame with index named Continent `['Asia', 'Australia', 'Europe', 'North America', 'South America']` and columns `['size', 'sum', 'mean', 'std']`*"
   ]
  },
  {
   "cell_type": "code",
   "execution_count": 15,
   "metadata": {
    "collapsed": true
   },
   "outputs": [],
   "source": [
    "def answer_eleven():\n",
    "    Top15 = answer_one()\n",
    "    temp_df = pd.DataFrame({\"Country\": list(ContinentDict.keys()), \"Continent\": list(ContinentDict.values())})\n",
    "\n",
    "    temp_df['estimate_populous'] = temp_df['Country'].apply(lambda x: Top15.loc[x]['estimate_populous'])\n",
    "\n",
    "    df = temp_df.groupby('Continent')\\\n",
    "        .agg([np.count_nonzero, np.sum, np.mean, np.std]) \\\n",
    "        .rename(\\\n",
    "                columns={'count_nonzero': 'size', 'sum': 'sum', 'mean': 'mean', 'std': 'std'})\n",
    "    df.columns.names = ['first', 'second']\n",
    "\n",
    "    Continent = df.xs('estimate_populous', level='first', axis=1, drop_level=True)\n",
    "    return Continent"
   ]
  },
  {
   "cell_type": "markdown",
   "metadata": {},
   "source": [
    "### Question 12 (6.6%)\n",
    "Cut % Renewable into 5 bins. Group Top15 by the Continent, as well as these new % Renewable bins. How many countries are in each of these groups?\n",
    "\n",
    "*This function should return a __Series__ with a MultiIndex of `Continent`, then the bins for `% Renewable`. Do not include groups with no countries.*"
   ]
  },
  {
   "cell_type": "code",
   "execution_count": 16,
   "metadata": {
    "collapsed": true,
    "scrolled": true
   },
   "outputs": [],
   "source": [
    "def answer_twelve():\n",
    "    Top15 = answer_one()\n",
    "    temp_df = pd.DataFrame({\"Country\": list(ContinentDict.keys()), \"Continent\": list(ContinentDict.values())})\n",
    "    temp_df['% Renewable'] = temp_df['Country'].apply(lambda x: Top15.loc[x]['% Renewable'])\n",
    "    temp_df['bins'] = pd.cut(temp_df['% Renewable'], 5)\n",
    "    result_series = temp_df.groupby(['Continent', 'bins'])['bins'].apply(np.count_nonzero)\n",
    "    return result_series"
   ]
  },
  {
   "cell_type": "markdown",
   "metadata": {},
   "source": [
    "### Question 13 (6.6%)\n",
    "Convert the Population Estimate series to a string with thousands separator (using commas). Do not round the results.\n",
    "\n",
    "e.g. 317615384.61538464 -> 317,615,384.61538464\n",
    "\n",
    "*This function should return a Series `PopEst` whose index is the country name and whose values are the population estimate string.*"
   ]
  },
  {
   "cell_type": "code",
   "execution_count": 17,
   "metadata": {
    "collapsed": true,
    "scrolled": true
   },
   "outputs": [],
   "source": [
    "def answer_thirteen():\n",
    "    Top15 = answer_one()\n",
    "    str_populous = Top15['estimate_populous'].apply(lambda x: \"{:,}\".format(x))\n",
    "    return str_populous"
   ]
  },
  {
   "cell_type": "markdown",
   "metadata": {},
   "source": [
    "### Optional\n",
    "\n",
    "Use the built in function `plot_optional()` to see an example visualization."
   ]
  },
  {
   "cell_type": "code",
   "execution_count": 18,
   "metadata": {
    "collapsed": true,
    "scrolled": true
   },
   "outputs": [],
   "source": [
    "def plot_optional():\n",
    "    import matplotlib as plt\n",
    "    %matplotlib inline\n",
    "    Top15 = answer_one()\n",
    "    ax = Top15.plot(x='Rank', y='% Renewable', kind='scatter', \n",
    "                    c=['#e41a1c','#377eb8','#e41a1c','#4daf4a','#4daf4a','#377eb8','#4daf4a','#e41a1c',\n",
    "                       '#4daf4a','#e41a1c','#4daf4a','#4daf4a','#e41a1c','#dede00','#ff7f00'], \n",
    "                    xticks=range(1,16), s=6*Top15['2014']/10**10, alpha=.75, figsize=[16,6]);\n",
    "\n",
    "    for i, txt in enumerate(Top15.index):\n",
    "        ax.annotate(txt, [Top15['Rank'][i], Top15['% Renewable'][i]], ha='center')\n",
    "\n",
    "    print(\"This is an example of a visualization that can be created to help understand the data. \\\n",
    "This is a bubble chart showing % Renewable vs. Rank. The size of the bubble corresponds to the countries' \\\n",
    "2014 GDP, and the color corresponds to the continent.\")"
   ]
  },
  {
   "cell_type": "code",
   "execution_count": 19,
   "metadata": {
    "collapsed": true
   },
   "outputs": [],
   "source": [
    "#plot_optional() # Be sure to comment out plot_optional() before submitting the assignment!"
   ]
  }
 ],
 "metadata": {
  "anaconda-cloud": {},
  "coursera": {
   "course_slug": "python-data-analysis",
   "graded_item_id": "zAr06",
   "launcher_item_id": "KSSjT",
   "part_id": "SL3fU"
  },
  "kernelspec": {
   "display_name": "Python 3",
   "language": "python",
   "name": "python3"
  },
  "language_info": {
   "codemirror_mode": {
    "name": "ipython",
    "version": 3
   },
   "file_extension": ".py",
   "mimetype": "text/x-python",
   "name": "python",
   "nbconvert_exporter": "python",
   "pygments_lexer": "ipython3",
   "version": "3.6.1"
  }
 },
 "nbformat": 4,
 "nbformat_minor": 1
}
